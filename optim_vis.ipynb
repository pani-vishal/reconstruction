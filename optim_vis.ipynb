{
 "cells": [
  {
   "cell_type": "code",
   "execution_count": 18,
   "metadata": {},
   "outputs": [],
   "source": [
    "import sys\n",
    "sys.path.append(\"/home/ziyizhang/Desktop/Projects/mitsuba3/build/python\")"
   ]
  },
  {
   "cell_type": "code",
   "execution_count": 19,
   "metadata": {},
   "outputs": [],
   "source": [
    "import drjit as dr\n",
    "import mitsuba as mi\n",
    "mi.set_variant('cuda_ad_rgb')\n",
    "import numpy as np\n",
    "import meshplot as mp\n",
    "import igl"
   ]
  },
  {
   "cell_type": "code",
   "execution_count": 20,
   "metadata": {},
   "outputs": [
    {
     "name": "stdout",
     "output_type": "stream",
     "text": [
      "The autoreload extension is already loaded. To reload it, use:\n",
      "  %reload_ext autoreload\n"
     ]
    }
   ],
   "source": [
    "sys.path.append('../')\n",
    "%load_ext autoreload\n",
    "%autoreload 2\n",
    "# from utils.vis import imshow_tensor, imshow_tensors, plot_scene, f2e, read_mesh"
   ]
  },
  {
   "cell_type": "markdown",
   "metadata": {},
   "source": [
    "## Scene"
   ]
  },
  {
   "cell_type": "code",
   "execution_count": 25,
   "metadata": {},
   "outputs": [
    {
     "data": {
      "application/vnd.jupyter.widget-view+json": {
       "model_id": "2852bc7cbd794fe59a5ea3dcd13f8d0b",
       "version_major": 2,
       "version_minor": 0
      },
      "text/plain": [
       "interactive(children=(IntSlider(value=25, description='i', max=40, min=10), Output()), _dom_classes=('widget-i…"
      ]
     },
     "metadata": {},
     "output_type": "display_data"
    }
   ],
   "source": [
    "from ipywidgets import interact\n",
    "@interact(i=(10,100))\n",
    "def show_target(i):\n",
    "    V, F = igl.read_triangle_mesh(\"./outputs/\" + str(i) + \".obj\")\n",
    "    plt = mp.plot(V, F, shading={\"wireframe\": True})\n",
    "    V_cube = np.array([[-0.05, -0.05, -0.05], [0., 0., 0.]])\n",
    "    plt.add_lines(V_cube[0, :], V_cube[1, :])"
   ]
  },
  {
   "cell_type": "code",
   "execution_count": 7,
   "metadata": {},
   "outputs": [
    {
     "data": {
      "application/vnd.jupyter.widget-view+json": {
       "model_id": "dc1fdcd36c5c4fd39d0105cafc72d1d4",
       "version_major": 2,
       "version_minor": 0
      },
      "text/plain": [
       "Renderer(camera=PerspectiveCamera(children=(DirectionalLight(color='white', intensity=0.6, position=(0.0125740…"
      ]
     },
     "metadata": {},
     "output_type": "display_data"
    },
    {
     "data": {
      "text/plain": [
       "<meshplot.Viewer.Viewer at 0x7f7a69a8c7c0>"
      ]
     },
     "execution_count": 7,
     "metadata": {},
     "output_type": "execute_result"
    }
   ],
   "source": [
    "mp.plot(V, F)"
   ]
  },
  {
   "cell_type": "markdown",
   "metadata": {},
   "source": [
    "## Batch render"
   ]
  },
  {
   "cell_type": "code",
   "execution_count": null,
   "metadata": {},
   "outputs": [],
   "source": [
    "n_iter = 100\n",
    "for i in range(n_iter):\n",
    "    V, F = igl.read_triangle_mesh(\"/home/ziyizhang/Desktop/Projects/Discontinuity/output/optim/\" + scene + f\"/{i:02d}.obj\")\n",
    "\n",
    "    params[\"mesh-source.vertex_positions\"] = mi.Float(V.ravel())\n",
    "    params[\"mesh-source.faces\"] = mi.UInt32(F.ravel())\n",
    "    params.update();\n",
    "\n",
    "    img_new = mi.render(source_scene, integrator=integrator, sensor=cam, spp=1024)\n",
    "    fname = f\"/home/ziyizhang/Desktop/Projects/Discontinuity/output/optim/\" + scene + f\"/{i:02d}.exr\"\n",
    "    mi.util.write_bitmap(fname, img_new)\n",
    "    print(fname)"
   ]
  },
  {
   "cell_type": "code",
   "execution_count": null,
   "metadata": {},
   "outputs": [],
   "source": []
  }
 ],
 "metadata": {
  "kernelspec": {
   "display_name": "Python 3.8.8 ('base')",
   "language": "python",
   "name": "python3"
  },
  "language_info": {
   "codemirror_mode": {
    "name": "ipython",
    "version": 3
   },
   "file_extension": ".py",
   "mimetype": "text/x-python",
   "name": "python",
   "nbconvert_exporter": "python",
   "pygments_lexer": "ipython3",
   "version": "3.8.8"
  },
  "orig_nbformat": 4,
  "vscode": {
   "interpreter": {
    "hash": "324262bda25e4aeb89fac5521e5e52d6dea4600b0315b63007798d9c65d5c62c"
   }
  }
 },
 "nbformat": 4,
 "nbformat_minor": 2
}
