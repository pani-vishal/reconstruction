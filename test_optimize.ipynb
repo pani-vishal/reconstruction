{
 "cells": [
  {
   "cell_type": "code",
   "execution_count": 1,
   "metadata": {},
   "outputs": [],
   "source": [
    "import numpy as np\n",
    "import mitsuba as mi\n",
    "import drjit as dr\n",
    "\n",
    "from calibration.helpers.camera_model import *\n",
    "\n",
    "mi.set_variant(\"llvm_ad_rgb\")"
   ]
  },
  {
   "cell_type": "code",
   "execution_count": 2,
   "metadata": {},
   "outputs": [],
   "source": [
    "def perspective_matrix(fov, near, far, aspect):\n",
    "    ''' Compute an OpenGL-style perspective matrix '''\n",
    "    c = 1 / np.tan(0.5 * fov)\n",
    "    recip = 1 / (near - far)\n",
    "    return np.array([\n",
    "        [c / aspect,  0,                    0,                      0],\n",
    "        [         0,  c,                    0,                      0],\n",
    "        [         0,  0, (near + far) * recip, 2 * near * far * recip],\n",
    "        [         0,  0,                   -1,                      0]]\n",
    "    )"
   ]
  },
  {
   "cell_type": "code",
   "execution_count": 3,
   "metadata": {},
   "outputs": [],
   "source": [
    "fov_y = 12.5"
   ]
  },
  {
   "cell_type": "code",
   "execution_count": 4,
   "metadata": {},
   "outputs": [
    {
     "data": {
      "text/plain": [
       "array([[ 6.08728988,  0.        ,  0.        ,  0.        ],\n",
       "       [ 0.        ,  9.13093482,  0.        ,  0.        ],\n",
       "       [ 0.        ,  0.        , -1.00020002, -0.20002   ],\n",
       "       [ 0.        ,  0.        , -1.        ,  0.        ]])"
      ]
     },
     "execution_count": 4,
     "metadata": {},
     "output_type": "execute_result"
    }
   ],
   "source": [
    "perspective_matrix(np.deg2rad(fov_y), 0.1, 1000, 1.5)"
   ]
  },
  {
   "cell_type": "code",
   "execution_count": 5,
   "metadata": {},
   "outputs": [],
   "source": [
    "def_res_x = 6576\n",
    "def_res_y = 4384\n",
    "fov_x = np.rad2deg(2 * np.arctan(np.tan(np.deg2rad(fov_y / 2)) * 1.5))\n",
    "mi.Vector2i(def_res_x, def_res_y)\n",
    "\n",
    "camera_to_sample = mi.perspective_projection(mi.ScalarVector2i(def_res_x, def_res_y), \n",
    "                                             mi.ScalarVector2i(def_res_x, def_res_y), \n",
    "                                             mi.ScalarVector2i(0, 0), \n",
    "                                             fov_x=fov_x, near_clip=0.1, far_clip=1000)"
   ]
  },
  {
   "cell_type": "code",
   "execution_count": 8,
   "metadata": {},
   "outputs": [
    {
     "data": {
      "text/plain": [
       "array([[[-3.043645  ,  0.        ,  0.5       ,  0.        ],\n",
       "        [ 0.        , -4.5654674 ,  0.5       ,  0.        ],\n",
       "        [ 0.        ,  0.        ,  1.0000999 , -0.10000999],\n",
       "        [ 0.        ,  0.        ,  1.        ,  0.        ]]],\n",
       "      dtype=float32)"
      ]
     },
     "execution_count": 8,
     "metadata": {},
     "output_type": "execute_result"
    }
   ],
   "source": [
    "np.array(camera_to_sample.matrix)"
   ]
  },
  {
   "cell_type": "code",
   "execution_count": null,
   "metadata": {},
   "outputs": [],
   "source": []
  }
 ],
 "metadata": {
  "kernelspec": {
   "display_name": "Python 3.10.6 ('.venv': venv)",
   "language": "python",
   "name": "python3"
  },
  "language_info": {
   "codemirror_mode": {
    "name": "ipython",
    "version": 3
   },
   "file_extension": ".py",
   "mimetype": "text/x-python",
   "name": "python",
   "nbconvert_exporter": "python",
   "pygments_lexer": "ipython3",
   "version": "3.10.6"
  },
  "orig_nbformat": 4,
  "vscode": {
   "interpreter": {
    "hash": "f8fc91e184cc1d0d1e418c46de67f352e4ff835800fc3d8eadce157a39d4c15c"
   }
  }
 },
 "nbformat": 4,
 "nbformat_minor": 2
}
