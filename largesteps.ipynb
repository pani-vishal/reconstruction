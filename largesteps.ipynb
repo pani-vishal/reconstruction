{
 "cells": [
  {
   "cell_type": "markdown",
   "metadata": {},
   "source": [
    "Shape Optimization\n",
    "=================="
   ]
  },
  {
   "cell_type": "markdown",
   "metadata": {},
   "source": [
    "In this tutorial, we will optimize a triangle mesh to match a target shape, based on a set of reference renderings.\n",
    "\n",
    "Gradients with regards to vertex positions are typically extremely sparse, since only vertices located on visibility discontinuities receive a contribution. As a consequence, naively optimizing a triangle mesh generally results in horrible, tangled meshes.\n",
    "\n",
    "To avoid this, we will use the method from the paper \"Large Steps in Inverse Rendering of Geometry\" <cite data-cite=\"Nicolet2021\">[Nicolet et al. 2021]</cite>. This method uses Laplacian preconditioning as an approximation of a second-order step."
   ]
  },
  {
   "cell_type": "markdown",
   "metadata": {},
   "source": [
    "## Setup\n",
    "\n",
    "As always, let's import `drjit` and `mitsuba` and set a differentiation-aware variant."
   ]
  },
  {
   "cell_type": "code",
   "execution_count": 34,
   "metadata": {},
   "outputs": [],
   "source": [
    "import mitsuba as mi\n",
    "mi.set_variant(\"cuda_ad_rgb\")\n",
    "import drjit as dr\n",
    "import numpy as np\n",
    "import scipy.sparse as sp\n",
    "\n",
    "import matplotlib.pyplot as plt\n",
    "\n",
    "from ipywidgets import interact\n"
   ]
  },
  {
   "cell_type": "markdown",
   "metadata": {},
   "source": [
    "Let's compute the Laplacian with Numpy:"
   ]
  },
  {
   "cell_type": "code",
   "execution_count": 35,
   "metadata": {},
   "outputs": [],
   "source": [
    "def compute_laplacian(n_verts, faces, lambda_):\n",
    "\n",
    "    # Neighbor indices\n",
    "    ii = faces[:, [1, 2, 0]].flatten()\n",
    "    jj = faces[:, [2, 0, 1]].flatten()\n",
    "    adj = np.unique(np.stack([np.concatenate([ii, jj]), np.concatenate([jj, ii])], axis=0), axis=1)\n",
    "    adj_values = np.ones(adj.shape[1], dtype=np.float64) * lambda_\n",
    "\n",
    "    # Diagonal indices, duplicated as many times as the connectivity of each index\n",
    "    diag_idx = np.stack((adj[0], adj[0]), axis=0)\n",
    "\n",
    "    diag = np.stack((np.arange(n_verts), np.arange(n_verts)), axis=0)\n",
    "\n",
    "    # Build the sparse matrix\n",
    "    idx = np.concatenate((adj, diag_idx, diag), axis=1)\n",
    "    values = np.concatenate((-adj_values, adj_values, np.ones(n_verts)))\n",
    "\n",
    "    return sp.csc_matrix((values, idx))"
   ]
  },
  {
   "cell_type": "code",
   "execution_count": 36,
   "metadata": {},
   "outputs": [],
   "source": [
    "def to_differential(verts, faces, lambda_):\n",
    "    L_csc = compute_laplacian(len(verts)//3, faces.numpy().reshape((-1,3)), lambda_)\n",
    "    return mi.TensorXf((L_csc @ verts.numpy().reshape((-1,3))))"
   ]
  },
  {
   "cell_type": "markdown",
   "metadata": {},
   "source": [
    "In order to use the \"Large Steps\" method, we need a differentiable solve function. We implement it as a Dr.JIT custom op:"
   ]
  },
  {
   "cell_type": "code",
   "execution_count": 37,
   "metadata": {},
   "outputs": [],
   "source": [
    "from cholespy import CholeskySolverF, MatrixType\n",
    "\n",
    "class CholeskySolve(dr.CustomOp):\n",
    "\n",
    "    def eval(self, solver, u):\n",
    "        self.solver = solver\n",
    "        x = dr.empty(dr.cuda.TensorXf, shape=u.shape)\n",
    "        solver.solve(u, x)\n",
    "        return mi.TensorXf(x)\n",
    "\n",
    "    def forward(self):\n",
    "        x = dr.empty(mi.TensorXf, shape=self.grad_in('u').shape)\n",
    "        self.solver.solve(self.grad_in('u'), x)\n",
    "        self.set_grad_out(x)\n",
    "\n",
    "    def backward(self):\n",
    "        x = dr.empty(dr.cuda.TensorXf, shape=self.grad_out().shape)\n",
    "        self.solver.solve(self.grad_out(), x)\n",
    "        self.set_grad_in('u', x)\n",
    "\n",
    "    def name(self):\n",
    "        return \"Cholesky solve\"\n",
    "\n",
    "class CholeskySolver():\n",
    "    def __init__(self, verts, faces, lambda_):\n",
    "        n_verts = len(verts) // 3\n",
    "        L_csc = compute_laplacian(n_verts, faces.numpy().reshape((-1,3)), lambda_)\n",
    "        self.solver = CholeskySolverF(n_verts, mi.TensorXi(L_csc.indptr), mi.TensorXi(L_csc.indices), mi.TensorXd(L_csc.data), MatrixType.CSC)\n",
    "\n",
    "    def solve(self, u):\n",
    "        return dr.custom(CholeskySolve, self.solver, u)\n"
   ]
  },
  {
   "cell_type": "markdown",
   "metadata": {},
   "source": [
    "Now let's load a scene to optimize:"
   ]
  },
  {
   "cell_type": "code",
   "execution_count": 49,
   "metadata": {},
   "outputs": [],
   "source": [
    "res = 256\n",
    "\n",
    "source_scene = mi.load_file(\"scenes/bunny/scene.xml\", res=res, integrator=\"direct_reparam\", mesh=\"source\", brdf=\"flat\")\n",
    "target_scene = mi.load_file(\"scenes/bunny/scene.xml\", res=res, integrator=\"direct_reparam\", mesh=\"target\", brdf=\"charuco\")\n",
    "\n",
    "# n_viewpoints = len(target_scene.sensors())\n",
    "n_viewpoints = 4"
   ]
  },
  {
   "cell_type": "markdown",
   "metadata": {},
   "source": [
    "We generate the reference renderings:"
   ]
  },
  {
   "cell_type": "code",
   "execution_count": 50,
   "metadata": {},
   "outputs": [],
   "source": [
    "ref_imgs = []\n",
    "for i in range(n_viewpoints):\n",
    "\tref_imgs.append(mi.render(target_scene, spp=256, sensor=i))"
   ]
  },
  {
   "cell_type": "code",
   "execution_count": 51,
   "metadata": {},
   "outputs": [
    {
     "data": {
      "application/vnd.jupyter.widget-view+json": {
       "model_id": "ee833b989a46446b9396427f51d9c59e",
       "version_major": 2,
       "version_minor": 0
      },
      "text/plain": [
       "interactive(children=(IntSlider(value=1, description='i', max=3), Output()), _dom_classes=('widget-interact',)…"
      ]
     },
     "metadata": {},
     "output_type": "display_data"
    }
   ],
   "source": [
    "@interact(i=(0,n_viewpoints-1))\n",
    "def show_target(i):\n",
    "\tplt.imshow((ref_imgs[i].numpy()**(1/2.2)).clip(0,1))\n",
    "\tplt.axis('off')"
   ]
  },
  {
   "cell_type": "markdown",
   "metadata": {},
   "source": [
    "## Optimization"
   ]
  },
  {
   "cell_type": "markdown",
   "metadata": {},
   "source": [
    "Instead of optimizing the vertex coordinates, we first embed them as `u = (I +λL)x` and optimize those coordinates instead. In order for this to work, we use a modification of the `Adam` optimizer, that uses a uniform second moment for all parameters."
   ]
  },
  {
   "cell_type": "code",
   "execution_count": 41,
   "metadata": {},
   "outputs": [],
   "source": [
    "params = mi.traverse(source_scene)\n",
    "lambda_ = 19\n",
    "\n",
    "param_tex = \"flat.brdf_0.reflectance.data\"\n",
    "\n",
    "solver = CholeskySolver(params['mesh-source.vertex_positions'], params['mesh-source.faces'], lambda_)\n",
    "opt = mi.ad.Adam(lr=1e-1, uniform=True, mask_updates=True)\n",
    "\n",
    "opt[param_tex] = params[param_tex]\n",
    "opt['u'] = to_differential(params['mesh-source.vertex_positions'], params['mesh-source.faces'], lambda_)"
   ]
  },
  {
   "cell_type": "markdown",
   "metadata": {},
   "source": [
    "Now let's run the optimization:"
   ]
  },
  {
   "cell_type": "code",
   "execution_count": 42,
   "metadata": {},
   "outputs": [
    {
     "name": "stderr",
     "output_type": "stream",
     "text": [
      "100%|██████████| 500/500 [11:23<00:00,  1.37s/it]\n"
     ]
    }
   ],
   "source": [
    "num_steps = 500\n",
    "loss_hist = np.zeros(num_steps)\n",
    "from tqdm import trange\n",
    "for it in trange(num_steps):\n",
    "    loss = mi.Float(0.0)\n",
    "\n",
    "\n",
    "    for i in range(n_viewpoints):\n",
    "        params['mesh-source.vertex_positions'] = solver.solve(opt['u']).array\n",
    "        params.update()\n",
    "        img = mi.render(source_scene, params, sensor=i, seed=it*n_viewpoints + i, spp=16)\n",
    "\n",
    "        # L1 Loss\n",
    "        img_loss = dr.mean(dr.abs(img - ref_imgs[i]))\n",
    "        loss += img_loss\n",
    "\n",
    "        loss_hist[it] += img_loss[0]\n",
    "\n",
    "        dr.backward(img_loss)\n",
    "        opt.step()\n",
    "    \n",
    "    print(f\"Iteration {1+it:03d}/{num_steps}: Loss = {img_loss[0]:6f}\", end='\\r')\n"
   ]
  },
  {
   "cell_type": "markdown",
   "metadata": {},
   "source": [
    "## Results"
   ]
  },
  {
   "cell_type": "code",
   "execution_count": 11,
   "metadata": {},
   "outputs": [
    {
     "data": {
      "text/plain": [
       "[<matplotlib.lines.Line2D at 0x7f6ea21e4a60>]"
      ]
     },
     "execution_count": 11,
     "metadata": {},
     "output_type": "execute_result"
    },
    {
     "data": {
      "image/png": "[encoded data removed]",
      "text/plain": [
       "<Figure size 640x480 with 1 Axes>"
      ]
     },
     "metadata": {},
     "output_type": "display_data"
    }
   ],
   "source": [
    "plt.plot(loss_hist)"
   ]
  },
  {
   "cell_type": "code",
   "execution_count": 52,
   "metadata": {},
   "outputs": [],
   "source": [
    "params['mesh-source.vertex_positions'] = solver.solve(opt['u']).array\n",
    "params.update()\n",
    "final_imgs = []\n",
    "for i in range(n_viewpoints):\n",
    "\tfinal_imgs.append(mi.render(source_scene, spp=64, sensor=i))"
   ]
  },
  {
   "cell_type": "code",
   "execution_count": 53,
   "metadata": {},
   "outputs": [
    {
     "data": {
      "application/vnd.jupyter.widget-view+json": {
       "model_id": "bd43e0ff9aa2464791a490aea5a87af9",
       "version_major": 2,
       "version_minor": 0
      },
      "text/plain": [
       "interactive(children=(IntSlider(value=1, description='i', max=3), Output()), _dom_classes=('widget-interact',)…"
      ]
     },
     "metadata": {},
     "output_type": "display_data"
    }
   ],
   "source": [
    "@interact(i=(0,n_viewpoints-1))\n",
    "def show_final(i):\n",
    "\tplt.imshow((final_imgs[i].numpy()**(1/2.2)).clip(0,1))\n",
    "\tplt.axis('off')"
   ]
  },
  {
   "cell_type": "code",
   "execution_count": null,
   "metadata": {},
   "outputs": [],
   "source": [
    "import meshplot"
   ]
  },
  {
   "cell_type": "code",
   "execution_count": null,
   "metadata": {},
   "outputs": [
    {
     "name": "stderr",
     "output_type": "stream",
     "text": [
      "/home/bnicolet/miniconda3/envs/graphics/lib/python3.10/site-packages/jupyter_client/session.py:716: UserWarning: Message serialization failed with:\n",
      "Out of range float values are not JSON compliant\n",
      "Supporting this message is deprecated in jupyter-client 7, please make sure your message is JSON-compliant\n",
      "  content = self.pack(content)\n"
     ]
    },
    {
     "data": {
      "application/vnd.jupyter.widget-view+json": {
       "model_id": "828e30c42f4a4d44aeaa4c5e76f93bea",
       "version_major": 2,
       "version_minor": 0
      },
      "text/plain": [
       "Renderer(camera=PerspectiveCamera(children=(DirectionalLight(color='white', intensity=0.6, position=(0.3538852…"
      ]
     },
     "metadata": {},
     "output_type": "display_data"
    },
    {
     "data": {
      "text/plain": [
       "<meshplot.Viewer.Viewer at 0x7ff7980028c0>"
      ]
     },
     "execution_count": 14,
     "metadata": {},
     "output_type": "execute_result"
    }
   ],
   "source": [
    "meshplot.plot(params['mesh-source.vertex_positions'].numpy().reshape((-1,3)),params['mesh-source.faces'].numpy().reshape((-1,3)))"
   ]
  },
  {
   "cell_type": "code",
   "execution_count": null,
   "metadata": {},
   "outputs": [],
   "source": []
  }
 ],
 "metadata": {
  "kernelspec": {
   "display_name": "Python 3.10.6 ('.venv': venv)",
   "language": "python",
   "name": "python3"
  },
  "language_info": {
   "codemirror_mode": {
    "name": "ipython",
    "version": 3
   },
   "file_extension": ".py",
   "mimetype": "text/x-python",
   "name": "python",
   "nbconvert_exporter": "python",
   "pygments_lexer": "ipython3",
   "version": "3.10.6"
  },
  "vscode": {
   "interpreter": {
    "hash": "f8fc91e184cc1d0d1e418c46de67f352e4ff835800fc3d8eadce157a39d4c15c"
   }
  }
 },
 "nbformat": 4,
 "nbformat_minor": 4
}
